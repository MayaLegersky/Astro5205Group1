{
 "cells": [
  {
   "cell_type": "code",
   "execution_count": 1,
   "id": "6dcd6921",
   "metadata": {},
   "outputs": [],
   "source": [
    "import pandas as pd\n",
    "import matplotlib.pyplot as plt\n",
    "import astropy.io.ascii\n",
    "from scipy.optimize import curve_fit\n",
    "from scipy.signal import lombscargle as ls\n",
    "import numpy as np\n",
    "from scipy.optimize import curve_fit\n",
    "import math"
   ]
  },
  {
   "cell_type": "markdown",
   "id": "03228f9d",
   "metadata": {},
   "source": [
    "# Reading Data"
   ]
  },
  {
   "cell_type": "code",
   "execution_count": 2,
   "id": "e4d7ebcb",
   "metadata": {},
   "outputs": [
    {
     "data": {
      "text/html": [
       "<div>\n",
       "<style scoped>\n",
       "    .dataframe tbody tr th:only-of-type {\n",
       "        vertical-align: middle;\n",
       "    }\n",
       "\n",
       "    .dataframe tbody tr th {\n",
       "        vertical-align: top;\n",
       "    }\n",
       "\n",
       "    .dataframe thead th {\n",
       "        text-align: right;\n",
       "    }\n",
       "</style>\n",
       "<table border=\"1\" class=\"dataframe\">\n",
       "  <thead>\n",
       "    <tr style=\"text-align: right;\">\n",
       "      <th></th>\n",
       "      <th>bjd</th>\n",
       "      <th>radial_velocity</th>\n",
       "      <th>radial_velocity_uncertainty</th>\n",
       "    </tr>\n",
       "  </thead>\n",
       "  <tbody>\n",
       "    <tr>\n",
       "      <th>0</th>\n",
       "      <td>2.452833e+06</td>\n",
       "      <td>-13.964</td>\n",
       "      <td>1.542</td>\n",
       "    </tr>\n",
       "    <tr>\n",
       "      <th>1</th>\n",
       "      <td>2.452899e+06</td>\n",
       "      <td>186.717</td>\n",
       "      <td>1.480</td>\n",
       "    </tr>\n",
       "    <tr>\n",
       "      <th>2</th>\n",
       "      <td>2.453181e+06</td>\n",
       "      <td>153.226</td>\n",
       "      <td>1.609</td>\n",
       "    </tr>\n",
       "    <tr>\n",
       "      <th>3</th>\n",
       "      <td>2.453241e+06</td>\n",
       "      <td>121.542</td>\n",
       "      <td>1.139</td>\n",
       "    </tr>\n",
       "    <tr>\n",
       "      <th>4</th>\n",
       "      <td>2.453304e+06</td>\n",
       "      <td>-202.928</td>\n",
       "      <td>1.244</td>\n",
       "    </tr>\n",
       "    <tr>\n",
       "      <th>...</th>\n",
       "      <td>...</td>\n",
       "      <td>...</td>\n",
       "      <td>...</td>\n",
       "    </tr>\n",
       "    <tr>\n",
       "      <th>81</th>\n",
       "      <td>2.453969e+06</td>\n",
       "      <td>-58.550</td>\n",
       "      <td>0.715</td>\n",
       "    </tr>\n",
       "    <tr>\n",
       "      <th>82</th>\n",
       "      <td>2.453969e+06</td>\n",
       "      <td>-69.951</td>\n",
       "      <td>0.771</td>\n",
       "    </tr>\n",
       "    <tr>\n",
       "      <th>83</th>\n",
       "      <td>2.453969e+06</td>\n",
       "      <td>-79.481</td>\n",
       "      <td>0.754</td>\n",
       "    </tr>\n",
       "    <tr>\n",
       "      <th>84</th>\n",
       "      <td>2.453969e+06</td>\n",
       "      <td>-95.622</td>\n",
       "      <td>0.750</td>\n",
       "    </tr>\n",
       "    <tr>\n",
       "      <th>85</th>\n",
       "      <td>2.453969e+06</td>\n",
       "      <td>-112.396</td>\n",
       "      <td>0.898</td>\n",
       "    </tr>\n",
       "  </tbody>\n",
       "</table>\n",
       "<p>86 rows × 3 columns</p>\n",
       "</div>"
      ],
      "text/plain": [
       "             bjd  radial_velocity  radial_velocity_uncertainty\n",
       "0   2.452833e+06          -13.964                        1.542\n",
       "1   2.452899e+06          186.717                        1.480\n",
       "2   2.453181e+06          153.226                        1.609\n",
       "3   2.453241e+06          121.542                        1.139\n",
       "4   2.453304e+06         -202.928                        1.244\n",
       "..           ...              ...                          ...\n",
       "81  2.453969e+06          -58.550                        0.715\n",
       "82  2.453969e+06          -69.951                        0.771\n",
       "83  2.453969e+06          -79.481                        0.754\n",
       "84  2.453969e+06          -95.622                        0.750\n",
       "85  2.453969e+06         -112.396                        0.898\n",
       "\n",
       "[86 rows x 3 columns]"
      ]
     },
     "execution_count": 2,
     "metadata": {},
     "output_type": "execute_result"
    }
   ],
   "source": [
    "with open(\"189_rad.txt\", \"r\") as f_in:\n",
    "     rad_vel = []\n",
    "     for line in f_in:\n",
    "             # remove \\n character at the end\n",
    "             line = line.strip()\n",
    "             # split it into 3 columns\n",
    "             line = line.split()\n",
    "             # add to data\n",
    "             rad_vel.append(line)\n",
    "     # first 3 rows are literally worthless\n",
    "     rad_vel = rad_vel[3:]\n",
    "\n",
    "# Data is like a table of rows, each row has 3 columns\n",
    "# Values are strings, we parse them to floats\n",
    "bjd1 = [float(row[0]) for row in rad_vel]\n",
    "radial_velocity = [float(row[1]) for row in rad_vel]\n",
    "radial_velocity_uncertainty = [float(row[2]) for row in rad_vel]\n",
    "\n",
    "dataframe_dict1 = {\"bjd\": bjd1, \"radial_velocity\": radial_velocity, \"radial_velocity_uncertainty\": radial_velocity_uncertainty}\n",
    "rad_vel_df = pd.DataFrame(data=dataframe_dict1)\n",
    "rad_vel_df"
   ]
  },
  {
   "cell_type": "code",
   "execution_count": 3,
   "id": "fda79ff0",
   "metadata": {},
   "outputs": [
    {
     "data": {
      "text/html": [
       "<div>\n",
       "<style scoped>\n",
       "    .dataframe tbody tr th:only-of-type {\n",
       "        vertical-align: middle;\n",
       "    }\n",
       "\n",
       "    .dataframe tbody tr th {\n",
       "        vertical-align: top;\n",
       "    }\n",
       "\n",
       "    .dataframe thead th {\n",
       "        text-align: right;\n",
       "    }\n",
       "</style>\n",
       "<table border=\"1\" class=\"dataframe\">\n",
       "  <thead>\n",
       "    <tr style=\"text-align: right;\">\n",
       "      <th></th>\n",
       "      <th>bjd</th>\n",
       "      <th>magnitude</th>\n",
       "      <th>magnitude_uncertainty</th>\n",
       "      <th>data_quality_flag</th>\n",
       "      <th>accepted_int</th>\n",
       "    </tr>\n",
       "  </thead>\n",
       "  <tbody>\n",
       "    <tr>\n",
       "      <th>0</th>\n",
       "      <td>2.453898e+06</td>\n",
       "      <td>1.0056</td>\n",
       "      <td>0.0024</td>\n",
       "      <td>1.0</td>\n",
       "      <td>1.0</td>\n",
       "    </tr>\n",
       "    <tr>\n",
       "      <th>1</th>\n",
       "      <td>2.453898e+06</td>\n",
       "      <td>1.0059</td>\n",
       "      <td>0.0024</td>\n",
       "      <td>1.0</td>\n",
       "      <td>1.0</td>\n",
       "    </tr>\n",
       "    <tr>\n",
       "      <th>2</th>\n",
       "      <td>2.453898e+06</td>\n",
       "      <td>1.0034</td>\n",
       "      <td>0.0024</td>\n",
       "      <td>1.0</td>\n",
       "      <td>1.0</td>\n",
       "    </tr>\n",
       "    <tr>\n",
       "      <th>3</th>\n",
       "      <td>2.453898e+06</td>\n",
       "      <td>0.9969</td>\n",
       "      <td>0.0024</td>\n",
       "      <td>1.0</td>\n",
       "      <td>1.0</td>\n",
       "    </tr>\n",
       "    <tr>\n",
       "      <th>4</th>\n",
       "      <td>2.453898e+06</td>\n",
       "      <td>0.9984</td>\n",
       "      <td>0.0024</td>\n",
       "      <td>1.0</td>\n",
       "      <td>1.0</td>\n",
       "    </tr>\n",
       "    <tr>\n",
       "      <th>...</th>\n",
       "      <td>...</td>\n",
       "      <td>...</td>\n",
       "      <td>...</td>\n",
       "      <td>...</td>\n",
       "      <td>...</td>\n",
       "    </tr>\n",
       "    <tr>\n",
       "      <th>194</th>\n",
       "      <td>2.453898e+06</td>\n",
       "      <td>0.9984</td>\n",
       "      <td>0.0015</td>\n",
       "      <td>1.0</td>\n",
       "      <td>1.0</td>\n",
       "    </tr>\n",
       "    <tr>\n",
       "      <th>195</th>\n",
       "      <td>2.453898e+06</td>\n",
       "      <td>0.9988</td>\n",
       "      <td>0.0015</td>\n",
       "      <td>1.0</td>\n",
       "      <td>1.0</td>\n",
       "    </tr>\n",
       "    <tr>\n",
       "      <th>196</th>\n",
       "      <td>2.453898e+06</td>\n",
       "      <td>1.0018</td>\n",
       "      <td>0.0015</td>\n",
       "      <td>1.0</td>\n",
       "      <td>1.0</td>\n",
       "    </tr>\n",
       "    <tr>\n",
       "      <th>197</th>\n",
       "      <td>2.453898e+06</td>\n",
       "      <td>1.0026</td>\n",
       "      <td>0.0015</td>\n",
       "      <td>1.0</td>\n",
       "      <td>1.0</td>\n",
       "    </tr>\n",
       "    <tr>\n",
       "      <th>198</th>\n",
       "      <td>2.453898e+06</td>\n",
       "      <td>1.0001</td>\n",
       "      <td>0.0015</td>\n",
       "      <td>1.0</td>\n",
       "      <td>1.0</td>\n",
       "    </tr>\n",
       "  </tbody>\n",
       "</table>\n",
       "<p>199 rows × 5 columns</p>\n",
       "</div>"
      ],
      "text/plain": [
       "              bjd  magnitude  magnitude_uncertainty  data_quality_flag  \\\n",
       "0    2.453898e+06     1.0056                 0.0024                1.0   \n",
       "1    2.453898e+06     1.0059                 0.0024                1.0   \n",
       "2    2.453898e+06     1.0034                 0.0024                1.0   \n",
       "3    2.453898e+06     0.9969                 0.0024                1.0   \n",
       "4    2.453898e+06     0.9984                 0.0024                1.0   \n",
       "..            ...        ...                    ...                ...   \n",
       "194  2.453898e+06     0.9984                 0.0015                1.0   \n",
       "195  2.453898e+06     0.9988                 0.0015                1.0   \n",
       "196  2.453898e+06     1.0018                 0.0015                1.0   \n",
       "197  2.453898e+06     1.0026                 0.0015                1.0   \n",
       "198  2.453898e+06     1.0001                 0.0015                1.0   \n",
       "\n",
       "     accepted_int  \n",
       "0             1.0  \n",
       "1             1.0  \n",
       "2             1.0  \n",
       "3             1.0  \n",
       "4             1.0  \n",
       "..            ...  \n",
       "194           1.0  \n",
       "195           1.0  \n",
       "196           1.0  \n",
       "197           1.0  \n",
       "198           1.0  \n",
       "\n",
       "[199 rows x 5 columns]"
      ]
     },
     "execution_count": 3,
     "metadata": {},
     "output_type": "execute_result"
    }
   ],
   "source": [
    "with open(\"189_photo.txt\", \"r\") as f_in:\n",
    "     photo = []\n",
    "     for line in f_in:\n",
    "             line = line.strip()\n",
    "             line = line.split()\n",
    "             photo.append(line)\n",
    "     photo = photo[5:]\n",
    "\n",
    "bjd2 = [float(row[0]) for row in photo]\n",
    "magnitude = [float(row[1]) for row in photo]\n",
    "magnitude_uncertainty = [float(row[2]) for row in photo]\n",
    "data_quality_flag = [float(row[3]) for row in photo]\n",
    "accepted_int = [float(row[3]) for row in photo]\n",
    "\n",
    "dataframe_dict2 = {\"bjd\": bjd2, \"magnitude\": magnitude, \"magnitude_uncertainty\": magnitude_uncertainty, \"data_quality_flag\": data_quality_flag,\"accepted_int\": accepted_int}\n",
    "photo_df = pd.DataFrame(data=dataframe_dict2)\n",
    "photo_df"
   ]
  },
  {
   "cell_type": "markdown",
   "id": "1fe6cc29",
   "metadata": {},
   "source": [
    "# Finding Period"
   ]
  },
  {
   "cell_type": "code",
   "execution_count": null,
   "id": "637c5442",
   "metadata": {},
   "outputs": [],
   "source": [
    "with open(\"189_rad.txt\", \"r\") as f_in:\n",
    "     rad_vel = []\n",
    "     for line in f_in:\n",
    "             # remove \\n character at the end\n",
    "             line = line.strip()\n",
    "             # split it into 3 columns\n",
    "             line = line.split()\n",
    "             # add to data\n",
    "             rad_vel.append(line)\n",
    "     # first 3 rows are literally worthless\n",
    "     rad_vel = rad_vel[3:]\n",
    "\n",
    "# Data is like a table of rows, each row has 3 columns\n",
    "# Values are strings, we parse them to floats\n",
    "bjd1 = [float(row[0]) for row in rad_vel]\n",
    "radial_velocity = [float(row[1]) for row in rad_vel]\n",
    "radial_velocity_uncertainty = [float(row[2]) for row in rad_vel]\n",
    "\n",
    "dataframe_dict1 = {\"bjd\": bjd1, \"radial_velocity\": radial_velocity, \"radial_velocity_uncertainty\": radial_velocity_uncertainty}\n",
    "rad_vel_df = pd.DataFrame(data=dataframe_dict1)\n",
    "rad_vel_df"
   ]
  },
  {
   "cell_type": "code",
   "execution_count": null,
   "id": "038eb02a",
   "metadata": {},
   "outputs": [],
   "source": [
    "RV=rad_vel_df['radial_velocity']-np.mean(rad_vel_df['radial_velocity'])\n",
    "rvbjd=rad_vel_df['bjd']\n",
    "\n",
    "plt.plot(rvbjd,RV,'.k')"
   ]
  },
  {
   "cell_type": "code",
   "execution_count": null,
   "id": "bde69554",
   "metadata": {},
   "outputs": [],
   "source": [
    "max(RV)-min(RV)"
   ]
  },
  {
   "cell_type": "code",
   "execution_count": null,
   "id": "29cf3011",
   "metadata": {},
   "outputs": [],
   "source": [
    "P1=np.linspace(1.,5.,50)\n",
    "\n",
    "#write function\n",
    "def freq(P):\n",
    "    \"\"\"\n",
    "    Converts periods to frequencies. Expects 1 input:\n",
    "    (1) a numpy array of periods\n",
    "    \n",
    "    Uses the formula freq=2pi/P to obtain angular frequencies\n",
    "    \"\"\"\n",
    "    omega=2*np.pi/P\n",
    "    return omega\n",
    "\n",
    "#test function\n",
    "test=freq(2*np.pi) #should return 1\n",
    "print(test)\n",
    "print('and it does! I can use this function for later things.')"
   ]
  },
  {
   "cell_type": "code",
   "execution_count": null,
   "id": "4ef32084",
   "metadata": {},
   "outputs": [],
   "source": [
    "freq1=freq(P1) #make array of frequencies to plug into periodogram\n",
    "ls1=ls(rvbjd,RV,freq1)\n",
    "\n",
    "fig, ax=plt.subplots()\n",
    "ax.semilogx(freq1,ls1)\n",
    "ax.semilogx(freq1[50:300],ls1[50:300])\n",
    "ax.set_xlabel('angular frequency')\n",
    "ax.set_ylabel('power')\n",
    "ax.set_title('periodogram with frequencies')"
   ]
  },
  {
   "cell_type": "code",
   "execution_count": null,
   "id": "efd36419",
   "metadata": {},
   "outputs": [],
   "source": [
    "fig, ax=plt.subplots()\n",
    "ax.semilogx(P1,ls1)\n",
    "ax.set_xlabel('Period')\n",
    "ax.set_ylabel('power')\n",
    "ax.set_title('periodogram with periods')\n",
    "fig.show()"
   ]
  },
  {
   "cell_type": "code",
   "execution_count": null,
   "id": "c88751c1",
   "metadata": {},
   "outputs": [],
   "source": [
    "d=np.argmax(ls1)\n",
    "f=freq1[d]\n",
    "P=2*np.pi/f\n",
    "print(P,'days') #NEA says NEW PERIOD (close enough)"
   ]
  },
  {
   "cell_type": "markdown",
   "id": "79f5a9b7",
   "metadata": {},
   "source": [
    "# Calculating Planet Radius"
   ]
  },
  {
   "cell_type": "code",
   "execution_count": 4,
   "id": "d322efd4",
   "metadata": {},
   "outputs": [
    {
     "data": {
      "text/plain": [
       "<matplotlib.collections.PathCollection at 0x7ff07cc7f460>"
      ]
     },
     "execution_count": 4,
     "metadata": {},
     "output_type": "execute_result"
    },
    {
     "data": {
      "image/png": "[encoded data removed]",
      "text/plain": [
       "<Figure size 640x480 with 1 Axes>"
      ]
     },
     "metadata": {},
     "output_type": "display_data"
    }
   ],
   "source": [
    "plt.scatter(photo_df['bjd'], photo_df['magnitude'])\n",
    "plt.scatter(photo_df['bjd'][photo_df['magnitude']<=0.98], photo_df['magnitude'][photo_df['magnitude']<=0.98], color = 'red')\n",
    "\n",
    "plt.scatter(photo_df['bjd'][photo_df['magnitude']>=0.995], photo_df['magnitude'][photo_df['magnitude']>=0.995], color = 'green')"
   ]
  },
  {
   "cell_type": "code",
   "execution_count": 6,
   "id": "a94cc20c",
   "metadata": {},
   "outputs": [],
   "source": [
    "trans_error = np.array(photo_df['magnitude_uncertainty'][photo_df['magnitude']<=0.98])\n",
    "out_error = np.array(photo_df['magnitude_uncertainty'][photo_df['magnitude']>=0.995])\n",
    "in_trans = np.array(photo_df['magnitude'][photo_df['magnitude']<=0.98])\n",
    "out_trans = np.array(photo_df['magnitude'][photo_df['magnitude']>=0.995])\n",
    "\n",
    "rng = np.random.default_rng() #initialize random number generator\n",
    "mag_samp=[rng.normal(loc=in_trans[i],scale=trans_error[i]) for i in range(len(in_trans))] #randomize data"
   ]
  },
  {
   "cell_type": "code",
   "execution_count": 27,
   "id": "de21f83b",
   "metadata": {},
   "outputs": [
    {
     "name": "stdout",
     "output_type": "stream",
     "text": [
      "1.2029575414653721\n",
      "1.1990505012480226\n",
      "1.20641667069066\n",
      "1.199357952462056\n",
      "1.188732709622685\n",
      "[1.2029575414653721, 1.1990505012480226, 1.20641667069066, 1.199357952462056, 1.188732709622685]\n"
     ]
    }
   ],
   "source": [
    "radii = []\n",
    "\n",
    "for k in range(5):\n",
    "    np.random.normal()\n",
    "    \n",
    "    # In trans\n",
    "    mag_samp_trans=[np.random.normal(loc=in_trans[j],scale=trans_error[j]) for j in range(len(in_trans))] #randomize data\n",
    "    \n",
    "    # Out trans\n",
    "    mag_samp_out=[np.random.normal(loc=out_trans[j],scale=out_error[j]) for j in range(len(out_trans))] #randomize data\n",
    "    \n",
    "    # Averages\n",
    "    in_trans_avg = np.mean(mag_samp_trans)\n",
    "    out_trans_avg = np.mean(mag_samp_out)\n",
    "    \n",
    "    # Transit depth\n",
    "    trans_depth = (out_trans_avg - in_trans_avg) / out_trans_avg\n",
    "    \n",
    "    # Star radius (in km)\n",
    "    star_radius = 0.765 * 696340 \n",
    "    \n",
    "    # Radius equation\n",
    "    planet_rad = (trans_depth**(1/2) * star_radius)/69911\n",
    "    print(planet_rad)\n",
    "    \n",
    "    radii.append(planet_rad)\n",
    "\n",
    "print(radii)"
   ]
  },
  {
   "cell_type": "code",
   "execution_count": 28,
   "id": "d4381a18",
   "metadata": {},
   "outputs": [
    {
     "name": "stdout",
     "output_type": "stream",
     "text": [
      "1.1993030750977591\n",
      "0.005928875071085189\n"
     ]
    }
   ],
   "source": [
    "rad_avg = np.mean(radii)\n",
    "rad_std = np.std(radii)\n",
    "\n",
    "print(rad_avg)\n",
    "print(rad_std)"
   ]
  },
  {
   "cell_type": "markdown",
   "id": "a42f9fbd",
   "metadata": {},
   "source": [
    "# Calculating Planet Mass"
   ]
  },
  {
   "cell_type": "code",
   "execution_count": 35,
   "id": "4176ebc0",
   "metadata": {},
   "outputs": [],
   "source": [
    "mp_j = 1.1477121953139102\n",
    "m_un_j = 0.0146465183\n",
    "mp_g = mp_j * 1.898 * 10**(30)\n",
    "m_un_g = m_un_j * 1.898 * 10**(30)"
   ]
  },
  {
   "cell_type": "markdown",
   "id": "b68f843d",
   "metadata": {},
   "source": [
    "# Calculating Planet Density"
   ]
  },
  {
   "cell_type": "code",
   "execution_count": 36,
   "id": "4663d70e",
   "metadata": {},
   "outputs": [],
   "source": [
    "rad_cm = rad_avg * 66854*100000\n",
    "rad_un_cm = rad_std * 66854*100000"
   ]
  },
  {
   "cell_type": "code",
   "execution_count": 39,
   "id": "ac4fdb94",
   "metadata": {},
   "outputs": [
    {
     "name": "stdout",
     "output_type": "stream",
     "text": [
      "[1.0209179261597867, 0.9657686724019354, 1.0070678090126655, 0.979987743808052, 1.0324120800267047, 1.020983709783497, 0.9932569825341376, 0.983418797092535, 1.0116497347629216, 0.970799216730518, 1.0415734071994707, 1.0160776353204635, 1.0106914806276632, 0.978561108247886, 1.01710586147181, 1.005282694722167, 1.079438667856059, 1.005605083745275, 1.0193908752772776, 1.0356582674452475, 1.014347834377591, 0.9936447368975725, 1.0215438376619121, 1.0213449807798591, 1.0142764337462713, 0.9889950233601583, 0.997711589156882, 0.9872147943237903, 0.9895252289402113, 0.9752558912393706, 1.0101903882051786, 1.0109967729586309, 1.0337645088217784, 1.0083635157356896, 1.0253065211926717, 0.9873378361185038, 0.9981584962392784, 1.0224405238736403, 1.0001305899483677, 1.014264688380492, 1.0149163574591753, 1.0223670787676986, 1.0274319224701896, 1.0034011532502458, 1.0093946434093601, 1.026842087407935, 1.004937920882372, 1.0088372290800034, 1.0031705145826957, 0.9974222840604637]\n"
     ]
    }
   ],
   "source": [
    "rho_list = []\n",
    "for j in range(50):\n",
    "    m_samp = np.random.normal(loc=mp_g, scale=m_un_g)\n",
    "    r_samp = np.random.normal(loc=rad_cm, scale=rad_un_cm)\n",
    "    rho = m_samp / (4/3 * np.pi * r_samp**3)\n",
    "    rho_list.append(rho)\n",
    "print(rho_list)"
   ]
  },
  {
   "cell_type": "code",
   "execution_count": 40,
   "id": "6689e5c6",
   "metadata": {},
   "outputs": [
    {
     "name": "stdout",
     "output_type": "stream",
     "text": [
      "The density is 1.0085836627510814 +/- 0.019894021174722904 g/cm^3.\n"
     ]
    }
   ],
   "source": [
    "rho_avg = np.mean(rho_list)\n",
    "rho_err = np.std(rho_list)\n",
    "print(\"The density is\", rho_avg, \"+/-\", rho_err, \"g/cm^3.\")"
   ]
  },
  {
   "cell_type": "code",
   "execution_count": null,
   "id": "36fb99a1",
   "metadata": {},
   "outputs": [],
   "source": []
  }
 ],
 "metadata": {
  "kernelspec": {
   "display_name": "Python 3 (ipykernel)",
   "language": "python",
   "name": "python3"
  },
  "language_info": {
   "codemirror_mode": {
    "name": "ipython",
    "version": 3
   },
   "file_extension": ".py",
   "mimetype": "text/x-python",
   "name": "python",
   "nbconvert_exporter": "python",
   "pygments_lexer": "ipython3",
   "version": "3.10.9"
  }
 },
 "nbformat": 4,
 "nbformat_minor": 5
}
